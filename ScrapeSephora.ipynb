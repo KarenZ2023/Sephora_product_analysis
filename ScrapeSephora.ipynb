{
 "cells": [
  {
   "cell_type": "code",
   "execution_count": 171,
   "metadata": {},
   "outputs": [],
   "source": [
    "from bs4 import BeautifulSoup\n",
    "import requests\n",
    "import re\n",
    "import json\n",
    "import pandas as pd\n",
    "from urllib.parse import urlencode"
   ]
  },
  {
   "cell_type": "code",
   "execution_count": 141,
   "metadata": {},
   "outputs": [],
   "source": [
    "# URL = 'https://www.sephora.com//product/the-ordinary-deciem-hyaluronic-acid-2-b5-P427419?skuId=2031375&icid2=products'\n",
    "# #URL = 'https://www.sephora.com/product/sephora-collection-rose-quartz-gua-sha-P502996?skuId=2583318&icid2=products%20grid:p502996:product'\n",
    "\n",
    "# headers={\"User-Agent\": \"Mozilla/5.0 (Windows NT 10.0; Win64; x64) AppleWebKit/537.36 (KHTML, like Gecko) Chrome/120.0.0.0 Safari/537.36\"}\n",
    "\n",
    "# page = requests.get(URL, headers=headers)\n",
    "\n",
    "# soup1 = BeautifulSoup(page.content, \"html.parser\")\n",
    "\n",
    "# soup2 = BeautifulSoup(soup1.prettify(), \"html.parser\")\n",
    "\n",
    "# testing = json.loads(soup2.find(\"script\", {\"id\": \"linkStore\"}).text)\n",
    "\n",
    "# print(testing)\n",
    "\n",
    "# print(testing['page'][\"product\"][\"productDetails\"].get('productId', None))\n"
   ]
  },
  {
   "cell_type": "code",
   "execution_count": 142,
   "metadata": {},
   "outputs": [],
   "source": [
    "def get_product_breadcrumbs(json_dict):\n",
    "    product_info = json_dict[\"page\"][\"product\"]\n",
    "    return list(map(lambda x: x[\"item\"][\"name\"], json.loads(product_info[\"breadcrumbsSeoJsonLd\"])[\"itemListElement\"]))\n",
    "\n"
   ]
  },
  {
   "cell_type": "code",
   "execution_count": 143,
   "metadata": {},
   "outputs": [],
   "source": [
    "def get_brand(json_dict):\n",
    "    return json_dict[\"page\"][\"product\"][\"productDetails\"]['brand'].get('displayName', None)"
   ]
  },
  {
   "cell_type": "code",
   "execution_count": 144,
   "metadata": {},
   "outputs": [],
   "source": [
    "def get_product_name(json_dict):\n",
    "    return json_dict[\"page\"][\"product\"][\"productDetails\"].get('displayName', None)"
   ]
  },
  {
   "cell_type": "code",
   "execution_count": 145,
   "metadata": {},
   "outputs": [],
   "source": [
    "def get_rating(json_dict):\n",
    "    return json_dict[\"page\"][\"product\"][\"productDetails\"].get('rating', None)"
   ]
  },
  {
   "cell_type": "code",
   "execution_count": 146,
   "metadata": {},
   "outputs": [],
   "source": [
    "def get_lovesCount(json_dict):\n",
    "    return json_dict[\"page\"][\"product\"][\"productDetails\"].get('lovesCount', None)"
   ]
  },
  {
   "cell_type": "code",
   "execution_count": 147,
   "metadata": {},
   "outputs": [],
   "source": [
    "def get_review_num(json_dict):\n",
    "    return json_dict[\"page\"][\"product\"][\"productDetails\"].get('reviews', None)"
   ]
  },
  {
   "cell_type": "code",
   "execution_count": 148,
   "metadata": {},
   "outputs": [],
   "source": [
    "def get_skin_concern(json_dict):\n",
    "    skin_concern_results = json_dict[\"page\"][\"biOptions\"].get(\"skinConcerns\", None)\n",
    "    skin_concern_list = []\n",
    "    if skin_concern_results!= None:\n",
    "        for dicts in skin_concern_results:\n",
    "            skin_concern_list.append(dicts['value'])\n",
    "    return skin_concern_list"
   ]
  },
  {
   "cell_type": "code",
   "execution_count": 149,
   "metadata": {},
   "outputs": [],
   "source": [
    "def get_skin_type(json_dict):\n",
    "    skin_type_results = json_dict[\"page\"][\"biOptions\"].get(\"skinType\", None)\n",
    "    skin_type_list = []\n",
    "    if skin_type_results!= None:\n",
    "        for dicts in skin_type_results:\n",
    "\n",
    "            skin_type_list.append(dicts['displayName'])\n",
    "    return skin_type_list\n"
   ]
  },
  {
   "cell_type": "code",
   "execution_count": 150,
   "metadata": {},
   "outputs": [],
   "source": [
    "def get_sku(json_dict):\n",
    "    return json_dict[\"page\"][\"product\"][\"currentSku\"].get(\"skuId\", None)"
   ]
  },
  {
   "cell_type": "code",
   "execution_count": 151,
   "metadata": {},
   "outputs": [],
   "source": [
    "def get_size(json_dict):\n",
    "    return json_dict[\"page\"][\"product\"][\"currentSku\"].get(\"size\", None)"
   ]
  },
  {
   "cell_type": "code",
   "execution_count": 152,
   "metadata": {},
   "outputs": [],
   "source": [
    "def get_price(json_dict):\n",
    "    price = json_dict[\"page\"][\"product\"][\"currentSku\"].get(\"listPrice\", None)\n",
    "    if price!= None:\n",
    "        price = price[1:]\n",
    "    return price\n"
   ]
  },
  {
   "cell_type": "code",
   "execution_count": 153,
   "metadata": {},
   "outputs": [],
   "source": [
    "def get_child_sku(json_dict):\n",
    "    find_child = json_dict[\"page\"][\"product\"].get(\"regularChildSkus\", None)\n",
    "    current_sku = json_dict[\"page\"][\"product\"][\"currentSku\"][\"skuId\"]\n",
    "    child_products = []\n",
    "    if find_child is not None:\n",
    "        for item in find_child:\n",
    "            if item['skuId']!=current_sku:\n",
    "                child_products.append(item['skuId'])\n",
    "    return child_products\n"
   ]
  },
  {
   "cell_type": "code",
   "execution_count": 154,
   "metadata": {},
   "outputs": [],
   "source": [
    "def get_item_id(json_dict):\n",
    "    return json_dict['page'][\"product\"][\"productDetails\"].get('productId', None)"
   ]
  },
  {
   "cell_type": "code",
   "execution_count": 155,
   "metadata": {},
   "outputs": [],
   "source": [
    "def get_similar_products(product_id, headers):\n",
    "    similar_product_url = 'https://sephora.cnstrc.com/recommendations/v1/pods/similar-products-test?c=ciojs-client-2.41.0&key=u7PNVQx-prod-en-us&i=0c7be738-3d64-4f03-b5fd-7c5df9afefdc&s=23&num_results=5&item_id='+product_id\n",
    "    similar_page = requests.get(similar_product_url, headers=headers)\n",
    "    similar_page = json.loads(similar_page.text)\n",
    "    \n",
    "    products_list = []\n",
    "    if similar_page[\"response\"].get(\"results\", None)!= None:\n",
    "        for item in similar_page[\"response\"][\"results\"]:\n",
    "            products_list.append(item[\"data\"][\"currentSku\"].get(\"skuId\", None))\n",
    "    else:\n",
    "        products_list.append('')\n",
    "\n",
    "    return products_list"
   ]
  },
  {
   "cell_type": "code",
   "execution_count": 206,
   "metadata": {},
   "outputs": [],
   "source": [
    "#loop through page 1-49 and loop through every product to get the url\n",
    "def get_skincare_info(url, total_pg, headers, api):\n",
    "    skincare_dict ={}\n",
    "    for pg in range(1, total_pg+1):\n",
    "        complete_url = url + str(pg)\n",
    "        print(complete_url)\n",
    "        params = {'api_key':api, 'url':complete_url}\n",
    "        page = requests.get('http://api.scraperapi.com', params =urlencode(params), headers=headers)\n",
    "        #page = requests.get(complete_url, headers=headers)\n",
    "        #print(page)\n",
    "        soup = BeautifulSoup(page.content, \"html.parser\")\n",
    "\n",
    "        #print(soup.prettify())\n",
    "        link_lst = list(map(lambda x: 'https://www.sephora.com/'+x[\"href\"], soup.find_all('a', {'class':'css-klx76'}, href=True)))\n",
    "        print(link_lst)\n",
    "        print(\"first element\")\n",
    "        print(link_lst[0])\n",
    "        for link in link_lst[:2]:\n",
    "            #add api here as well\n",
    "            #product_pg = requests.get(link,headers=headers)\n",
    "            #link = 'https://www.sephora.com//product/the-ordinary-deciem-hyaluronic-acid-2-b5-P427419?skuId=2031375&icid2=products'\n",
    "            params2 = {'api_key':api, 'url':link}\n",
    "            product_pg = requests.get('http://api.scraperapi.com', params =urlencode(params2), headers=headers)\n",
    "            product_soup1 = BeautifulSoup(product_pg.content, \"html.parser\")\n",
    "            product_soup = BeautifulSoup(product_soup1.prettify(), \"html.parser\")\n",
    "            #print(product_soup.prettify())\n",
    "            #json_dict = json.loads(product_soup.find(\"script\", {\"id\": \"linkStore\"}).text)\n",
    "            #script_tag = product_soup.find(\"script\", {\"id\": \"linkStore\"})\n",
    "            script_tag = product_soup.find(\"script\", {\"id\": \"linkStore\", \"type\": \"text/json\"})\n",
    "\n",
    "\n",
    "            if script_tag:\n",
    "                script_text = script_tag.text\n",
    "\n",
    "                try:\n",
    "                    json_dict = json.loads(script_text)\n",
    "                    # Now you can work with json_dict\n",
    "                except json.JSONDecodeError as e:\n",
    "                    print(f\"Error decoding JSON: {e}\")\n",
    "            else:\n",
    "                print(\"Script tag with id 'linkStore' not found.\")\n",
    "\n",
    "            \n",
    "\n",
    "            '''hierarchy = get_product_breadcrumbs(json_dict)\n",
    "            brand = get_brand(json_dict)\n",
    "            product = get_product_name(json_dict)\n",
    "            rating = get_rating(json_dict)\n",
    "            loves_count = get_lovesCount(json_dict)\n",
    "            reviews_num = get_review_num(json_dict)\n",
    "            sku = get_sku(json_dict)\n",
    "            size = get_size(json_dict)\n",
    "            price = get_price(json_dict)\n",
    "            child_sku = get_child_sku(json_dict)\n",
    "            item_id = get_item_id(json_dict)\n",
    "            similar_products = get_similar_products(product_id = item_id, headers =headers )\n",
    "            skin_concern = get_skin_concern(json_dict)\n",
    "            skin_type = get_skin_type(json_dict)\n",
    "\n",
    "            skincare_dict[sku] = {}\n",
    "            skincare_dict[sku]['hierarchy'] = ','.join(hierarchy)\n",
    "            skincare_dict[sku]['brand'] = brand \n",
    "            skincare_dict[sku]['product'] = product \n",
    "            skincare_dict[sku]['rating'] = rating \n",
    "            skincare_dict[sku]['loves_count'] = loves_count \n",
    "            skincare_dict[sku]['reviews_num'] = reviews_num\n",
    "            skincare_dict[sku]['size'] = size \n",
    "            skincare_dict[sku]['price'] = price \n",
    "            skincare_dict[sku]['child_sku'] = ','.join(child_sku) \n",
    "            skincare_dict[sku]['item_id'] = item_id\n",
    "            skincare_dict[sku]['similar_products'] = ','.join(similar_products)\n",
    "            skincare_dict[sku]['skin_concern'] = ','.join(skin_concern)\n",
    "            skincare_dict[sku]['skin_type'] = ','.join(skin_type)'''\n",
    "\n",
    "\n",
    "    return link_lst, skincare_dict"
   ]
  },
  {
   "cell_type": "code",
   "execution_count": 207,
   "metadata": {},
   "outputs": [
    {
     "name": "stdout",
     "output_type": "stream",
     "text": [
      "https://www.sephora.com/shop/skincare?currentPage=1\n",
      "['https://www.sephora.com//product/the-ordinary-deciem-hyaluronic-acid-2-b5-P427419?skuId=2031375&icid2=products grid:p427419:product', 'https://www.sephora.com//product/the-ordinary-deciem-niacinamide-10-zinc-1-P427417?skuId=2031391&icid2=products grid:p427417:product', 'https://www.sephora.com//product/glow-recipe-watermelon-glow-pha-bha-pore-tight-toner-P458219?skuId=2348431&icid2=products grid:p458219:product', 'https://www.sephora.com//product/lip-sleeping-mask-P420652?skuId=1966258&icid2=products grid:p420652:product', 'https://www.sephora.com//product/touchland-power-mist-hydrating-hand-sanitizer-P480529?skuId=2556744&icid2=products grid:p480529:product', 'https://www.sephora.com//product/protini-tm-polypeptide-cream-P427421?skuId=2025633&icid2=products grid:p427421:product', 'https://www.sephora.com//product/glow-recipe-watermelon-glow-niacinamide-dew-drops-P466123?skuId=2404846&icid2=products grid:p466123:product']\n",
      "first element\n",
      "https://www.sephora.com//product/the-ordinary-deciem-hyaluronic-acid-2-b5-P427419?skuId=2031375&icid2=products grid:p427419:product\n"
     ]
    }
   ],
   "source": [
    "headers={\"User-Agent\": \"Mozilla/5.0 (Windows NT 10.0; Win64; x64) AppleWebKit/537.36 (KHTML, like Gecko) Chrome/120.0.0.0 Safari/537.36\"}\n",
    "link_list, all_products_dict = get_skincare_info(url= 'https://www.sephora.com/shop/skincare?currentPage=', total_pg =1 , headers = headers, api ='57d761a02ba8a95e8bcad4641873ab9b')\n"
   ]
  },
  {
   "cell_type": "code",
   "execution_count": 210,
   "metadata": {},
   "outputs": [
    {
     "name": "stdout",
     "output_type": "stream",
     "text": [
      "['https://www.sephora.com//product/the-ordinary-deciem-hyaluronic-acid-2-b5-P427419?skuId=2031375&icid2=products grid:p427419:product', 'https://www.sephora.com//product/the-ordinary-deciem-niacinamide-10-zinc-1-P427417?skuId=2031391&icid2=products grid:p427417:product', 'https://www.sephora.com//product/glow-recipe-watermelon-glow-pha-bha-pore-tight-toner-P458219?skuId=2348431&icid2=products grid:p458219:product', 'https://www.sephora.com//product/lip-sleeping-mask-P420652?skuId=1966258&icid2=products grid:p420652:product', 'https://www.sephora.com//product/touchland-power-mist-hydrating-hand-sanitizer-P480529?skuId=2556744&icid2=products grid:p480529:product', 'https://www.sephora.com//product/protini-tm-polypeptide-cream-P427421?skuId=2025633&icid2=products grid:p427421:product', 'https://www.sephora.com//product/glow-recipe-watermelon-glow-niacinamide-dew-drops-P466123?skuId=2404846&icid2=products grid:p466123:product']\n",
      "['https://www.sephora.com//product/the-ordinary-deciem-hyaluronic-acid-2-b5-P427419?skuId=2031375&icid2=products grid:p427419:product', 'https://www.sephora.com//product/the-ordinary-deciem-niacinamide-10-zinc-1-P427417?skuId=2031391&icid2=products grid:p427417:product', 'https://www.sephora.com//product/glow-recipe-watermelon-glow-pha-bha-pore-tight-toner-P458219?skuId=2348431&icid2=products grid:p458219:product', 'https://www.sephora.com//product/lip-sleeping-mask-P420652?skuId=1966258&icid2=products grid:p420652:product', 'https://www.sephora.com//product/touchland-power-mist-hydrating-hand-sanitizer-P480529?skuId=2556744&icid2=products grid:p480529:product', 'https://www.sephora.com//product/protini-tm-polypeptide-cream-P427421?skuId=2025633&icid2=products grid:p427421:product', 'https://www.sephora.com//product/glow-recipe-watermelon-glow-niacinamide-dew-drops-P466123?skuId=2404846&icid2=products grid:p466123:product']\n",
      "['https://www.sephora.com//product/the-ordinary-deciem-hyaluronic-acid-2-b5-P427419?skuId=2031375&icid2=products grid:p427419:product', 'https://www.sephora.com//product/the-ordinary-deciem-niacinamide-10-zinc-1-P427417?skuId=2031391&icid2=products grid:p427417:product', 'https://www.sephora.com//product/glow-recipe-watermelon-glow-pha-bha-pore-tight-toner-P458219?skuId=2348431&icid2=products grid:p458219:product', 'https://www.sephora.com//product/lip-sleeping-mask-P420652?skuId=1966258&icid2=products grid:p420652:product', 'https://www.sephora.com//product/touchland-power-mist-hydrating-hand-sanitizer-P480529?skuId=2556744&icid2=products grid:p480529:product', 'https://www.sephora.com//product/protini-tm-polypeptide-cream-P427421?skuId=2025633&icid2=products grid:p427421:product', 'https://www.sephora.com//product/glow-recipe-watermelon-glow-niacinamide-dew-drops-P466123?skuId=2404846&icid2=products grid:p466123:product']\n",
      "['https://www.sephora.com//product/the-ordinary-deciem-hyaluronic-acid-2-b5-P427419?skuId=2031375&icid2=products grid:p427419:product', 'https://www.sephora.com//product/the-ordinary-deciem-niacinamide-10-zinc-1-P427417?skuId=2031391&icid2=products grid:p427417:product', 'https://www.sephora.com//product/glow-recipe-watermelon-glow-pha-bha-pore-tight-toner-P458219?skuId=2348431&icid2=products grid:p458219:product', 'https://www.sephora.com//product/lip-sleeping-mask-P420652?skuId=1966258&icid2=products grid:p420652:product', 'https://www.sephora.com//product/touchland-power-mist-hydrating-hand-sanitizer-P480529?skuId=2556744&icid2=products grid:p480529:product', 'https://www.sephora.com//product/protini-tm-polypeptide-cream-P427421?skuId=2025633&icid2=products grid:p427421:product', 'https://www.sephora.com//product/glow-recipe-watermelon-glow-niacinamide-dew-drops-P466123?skuId=2404846&icid2=products grid:p466123:product']\n",
      "['https://www.sephora.com//product/the-ordinary-deciem-hyaluronic-acid-2-b5-P427419?skuId=2031375&icid2=products grid:p427419:product', 'https://www.sephora.com//product/the-ordinary-deciem-niacinamide-10-zinc-1-P427417?skuId=2031391&icid2=products grid:p427417:product', 'https://www.sephora.com//product/glow-recipe-watermelon-glow-pha-bha-pore-tight-toner-P458219?skuId=2348431&icid2=products grid:p458219:product', 'https://www.sephora.com//product/lip-sleeping-mask-P420652?skuId=1966258&icid2=products grid:p420652:product', 'https://www.sephora.com//product/touchland-power-mist-hydrating-hand-sanitizer-P480529?skuId=2556744&icid2=products grid:p480529:product', 'https://www.sephora.com//product/protini-tm-polypeptide-cream-P427421?skuId=2025633&icid2=products grid:p427421:product', 'https://www.sephora.com//product/glow-recipe-watermelon-glow-niacinamide-dew-drops-P466123?skuId=2404846&icid2=products grid:p466123:product']\n",
      "['https://www.sephora.com//product/the-ordinary-deciem-hyaluronic-acid-2-b5-P427419?skuId=2031375&icid2=products grid:p427419:product', 'https://www.sephora.com//product/the-ordinary-deciem-niacinamide-10-zinc-1-P427417?skuId=2031391&icid2=products grid:p427417:product', 'https://www.sephora.com//product/glow-recipe-watermelon-glow-pha-bha-pore-tight-toner-P458219?skuId=2348431&icid2=products grid:p458219:product', 'https://www.sephora.com//product/lip-sleeping-mask-P420652?skuId=1966258&icid2=products grid:p420652:product', 'https://www.sephora.com//product/touchland-power-mist-hydrating-hand-sanitizer-P480529?skuId=2556744&icid2=products grid:p480529:product', 'https://www.sephora.com//product/protini-tm-polypeptide-cream-P427421?skuId=2025633&icid2=products grid:p427421:product', 'https://www.sephora.com//product/glow-recipe-watermelon-glow-niacinamide-dew-drops-P466123?skuId=2404846&icid2=products grid:p466123:product']\n",
      "['https://www.sephora.com//product/the-ordinary-deciem-hyaluronic-acid-2-b5-P427419?skuId=2031375&icid2=products grid:p427419:product', 'https://www.sephora.com//product/the-ordinary-deciem-niacinamide-10-zinc-1-P427417?skuId=2031391&icid2=products grid:p427417:product', 'https://www.sephora.com//product/glow-recipe-watermelon-glow-pha-bha-pore-tight-toner-P458219?skuId=2348431&icid2=products grid:p458219:product', 'https://www.sephora.com//product/lip-sleeping-mask-P420652?skuId=1966258&icid2=products grid:p420652:product', 'https://www.sephora.com//product/touchland-power-mist-hydrating-hand-sanitizer-P480529?skuId=2556744&icid2=products grid:p480529:product', 'https://www.sephora.com//product/protini-tm-polypeptide-cream-P427421?skuId=2025633&icid2=products grid:p427421:product', 'https://www.sephora.com//product/glow-recipe-watermelon-glow-niacinamide-dew-drops-P466123?skuId=2404846&icid2=products grid:p466123:product']\n"
     ]
    }
   ],
   "source": [
    "for i in link_list:\n",
    "    print(link_list)"
   ]
  },
  {
   "cell_type": "code",
   "execution_count": 158,
   "metadata": {},
   "outputs": [],
   "source": [
    "all_products_df = pd.DataFrame.from_dict(all_products_dict).transpose()\n",
    "all_products_df.to_csv('SephoraSkincareData.csv', sep='\\t')"
   ]
  },
  {
   "cell_type": "code",
   "execution_count": 163,
   "metadata": {},
   "outputs": [
    {
     "name": "stdout",
     "output_type": "stream",
     "text": [
      "14\n"
     ]
    }
   ],
   "source": [
    "print(len(all_products_dict))"
   ]
  },
  {
   "cell_type": "code",
   "execution_count": null,
   "metadata": {},
   "outputs": [],
   "source": []
  }
 ],
 "metadata": {
  "kernelspec": {
   "display_name": "portfolio",
   "language": "python",
   "name": "python3"
  },
  "language_info": {
   "codemirror_mode": {
    "name": "ipython",
    "version": 3
   },
   "file_extension": ".py",
   "mimetype": "text/x-python",
   "name": "python",
   "nbconvert_exporter": "python",
   "pygments_lexer": "ipython3",
   "version": "3.12.0"
  }
 },
 "nbformat": 4,
 "nbformat_minor": 2
}
