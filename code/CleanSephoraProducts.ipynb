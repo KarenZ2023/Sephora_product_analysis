{
 "cells": [
  {
   "cell_type": "markdown",
   "metadata": {},
   "source": [
    "#### **Objective:** <br>\n",
    "Data wrangling of the saved product information. <br>\n",
    "\n",
    "#### **Method:** <br>\n",
    "1. Rename columns\n",
    "2. Apply upper case to string columns \n",
    "3. Get the size of the product in ounces\n",
    "4. Split hierarchy levels into 3 levels/columns\n",
    "5. Keep only products with hierarchy_1 is skincare\n",
    "6. Generate dummy variables for skin type and skin concern\n",
    "7. Save cleaned data into a file\n",
    "8. Create a file of the products and their similar products/connections\n",
    "\n",
    "#### **Summary:** <br>\n",
    "After data preprocessing, there are 1815 skincare products. Each product has a sku_id, hierarchy_1/2/3, brand, product, rating, loves_count, size_oz, price, child_sku, item_id, similar products, skin_concern (dummy variables), skin_type (dummy variables)"
   ]
  },
  {
   "cell_type": "code",
   "execution_count": 1,
   "metadata": {},
   "outputs": [],
   "source": [
    "#import libaries\n",
    "import pandas as pd\n",
    "import matplotlib.pyplot as plt\n",
    "import numpy as np\n",
    "from sklearn.preprocessing import MultiLabelBinarizer\n",
    "import re"
   ]
  },
  {
   "cell_type": "markdown",
   "metadata": {},
   "source": [
    "##### **1. Data Preprocessing**"
   ]
  },
  {
   "cell_type": "code",
   "execution_count": 6,
   "metadata": {},
   "outputs": [],
   "source": [
    "#load in the data\n",
    "raw_skincare_data = pd.read_csv(\"../results/SephoraSkincareData_v2.csv\", sep='\\t')"
   ]
  },
  {
   "cell_type": "code",
   "execution_count": 7,
   "metadata": {},
   "outputs": [
    {
     "data": {
      "text/html": [
       "<div>\n",
       "<style scoped>\n",
       "    .dataframe tbody tr th:only-of-type {\n",
       "        vertical-align: middle;\n",
       "    }\n",
       "\n",
       "    .dataframe tbody tr th {\n",
       "        vertical-align: top;\n",
       "    }\n",
       "\n",
       "    .dataframe thead th {\n",
       "        text-align: right;\n",
       "    }\n",
       "</style>\n",
       "<table border=\"1\" class=\"dataframe\">\n",
       "  <thead>\n",
       "    <tr style=\"text-align: right;\">\n",
       "      <th></th>\n",
       "      <th>Unnamed: 0</th>\n",
       "      <th>hierarchy</th>\n",
       "      <th>brand</th>\n",
       "      <th>product</th>\n",
       "      <th>rating</th>\n",
       "      <th>loves_count</th>\n",
       "      <th>reviews_num</th>\n",
       "      <th>size</th>\n",
       "      <th>price</th>\n",
       "      <th>child_sku</th>\n",
       "      <th>item_id</th>\n",
       "      <th>similar_products</th>\n",
       "      <th>skin_concern</th>\n",
       "      <th>skin_type</th>\n",
       "    </tr>\n",
       "  </thead>\n",
       "  <tbody>\n",
       "    <tr>\n",
       "      <th>0</th>\n",
       "      <td>101220</td>\n",
       "      <td>Skincare,Cleansers,Makeup Removers</td>\n",
       "      <td>Shiseido</td>\n",
       "      <td>Facial Cotton</td>\n",
       "      <td>4.8064</td>\n",
       "      <td>143523</td>\n",
       "      <td>2913.0</td>\n",
       "      <td>165 sheets</td>\n",
       "      <td>16.0</td>\n",
       "      <td>1880350</td>\n",
       "      <td>P173726</td>\n",
       "      <td>2735132,2031391,2191526,2698348,2031441</td>\n",
       "      <td>NaN</td>\n",
       "      <td>Normal, Dry, Combination, and Oily</td>\n",
       "    </tr>\n",
       "    <tr>\n",
       "      <th>1</th>\n",
       "      <td>1022318</td>\n",
       "      <td>Makeup,Lip,Lip Balms &amp; Treatments</td>\n",
       "      <td>GUERLAIN</td>\n",
       "      <td>KissKiss Liplift Lipstick Primer</td>\n",
       "      <td>3.9012</td>\n",
       "      <td>11769</td>\n",
       "      <td>334.0</td>\n",
       "      <td>0.11 oz/ 3 g</td>\n",
       "      <td>40.0</td>\n",
       "      <td>NaN</td>\n",
       "      <td>P190247</td>\n",
       "      <td>1987478,2595262,2511186,2595940,2608578</td>\n",
       "      <td>NaN</td>\n",
       "      <td>NaN</td>\n",
       "    </tr>\n",
       "    <tr>\n",
       "      <th>2</th>\n",
       "      <td>1027465</td>\n",
       "      <td>Skincare,Treatments,Blemish &amp; Acne Treatments</td>\n",
       "      <td>CLINIQUE</td>\n",
       "      <td>Acne Solutions All-Over Clearing Treatment Oil...</td>\n",
       "      <td>4.0181</td>\n",
       "      <td>18325</td>\n",
       "      <td>719.0</td>\n",
       "      <td>1.7 oz/ 50 mL</td>\n",
       "      <td>26.0</td>\n",
       "      <td>NaN</td>\n",
       "      <td>P188306</td>\n",
       "      <td>1027473,1677137,1027507,1592831,1592856</td>\n",
       "      <td>Redness, Acne and Blemishes, and Oiliness</td>\n",
       "      <td>Normal, Dry, Combination, and Oily</td>\n",
       "    </tr>\n",
       "    <tr>\n",
       "      <th>3</th>\n",
       "      <td>1027473</td>\n",
       "      <td>Skincare,Cleansers,Toners</td>\n",
       "      <td>CLINIQUE</td>\n",
       "      <td>Acne Solutions™ Clarifying Lotion</td>\n",
       "      <td>4.3980</td>\n",
       "      <td>46140</td>\n",
       "      <td>1015.0</td>\n",
       "      <td>6.7 oz/ 200 mL</td>\n",
       "      <td>21.0</td>\n",
       "      <td>NaN</td>\n",
       "      <td>P188307</td>\n",
       "      <td>1027465,1027507,1677137,1592831,1802321</td>\n",
       "      <td>Pores, dullness and uneven texture, acne, and ...</td>\n",
       "      <td>Normal, Dry, Combination, and Oily</td>\n",
       "    </tr>\n",
       "    <tr>\n",
       "      <th>4</th>\n",
       "      <td>1027507</td>\n",
       "      <td>Skincare,Cleansers,Face Wash &amp; Cleansers</td>\n",
       "      <td>CLINIQUE</td>\n",
       "      <td>Acne Solutions™ Cleansing Foam</td>\n",
       "      <td>4.1654</td>\n",
       "      <td>51136</td>\n",
       "      <td>1052.0</td>\n",
       "      <td>4.2 oz/ 125 mL</td>\n",
       "      <td>25.0</td>\n",
       "      <td>2531747</td>\n",
       "      <td>P188309</td>\n",
       "      <td>1027473,1027465,1677137,1592831,2531747</td>\n",
       "      <td>Pores, Acne and Blemishes, and Oiliness</td>\n",
       "      <td>Normal, Dry, Combination, and Oily</td>\n",
       "    </tr>\n",
       "  </tbody>\n",
       "</table>\n",
       "</div>"
      ],
      "text/plain": [
       "   Unnamed: 0                                      hierarchy     brand  \\\n",
       "0      101220             Skincare,Cleansers,Makeup Removers  Shiseido   \n",
       "1     1022318              Makeup,Lip,Lip Balms & Treatments  GUERLAIN   \n",
       "2     1027465  Skincare,Treatments,Blemish & Acne Treatments  CLINIQUE   \n",
       "3     1027473                      Skincare,Cleansers,Toners  CLINIQUE   \n",
       "4     1027507       Skincare,Cleansers,Face Wash & Cleansers  CLINIQUE   \n",
       "\n",
       "                                             product  rating  loves_count  \\\n",
       "0                                      Facial Cotton  4.8064       143523   \n",
       "1                   KissKiss Liplift Lipstick Primer  3.9012        11769   \n",
       "2  Acne Solutions All-Over Clearing Treatment Oil...  4.0181        18325   \n",
       "3                  Acne Solutions™ Clarifying Lotion  4.3980        46140   \n",
       "4                     Acne Solutions™ Cleansing Foam  4.1654        51136   \n",
       "\n",
       "   reviews_num            size  price child_sku  item_id  \\\n",
       "0       2913.0      165 sheets   16.0   1880350  P173726   \n",
       "1        334.0    0.11 oz/ 3 g   40.0       NaN  P190247   \n",
       "2        719.0   1.7 oz/ 50 mL   26.0       NaN  P188306   \n",
       "3       1015.0  6.7 oz/ 200 mL   21.0       NaN  P188307   \n",
       "4       1052.0  4.2 oz/ 125 mL   25.0   2531747  P188309   \n",
       "\n",
       "                          similar_products  \\\n",
       "0  2735132,2031391,2191526,2698348,2031441   \n",
       "1  1987478,2595262,2511186,2595940,2608578   \n",
       "2  1027473,1677137,1027507,1592831,1592856   \n",
       "3  1027465,1027507,1677137,1592831,1802321   \n",
       "4  1027473,1027465,1677137,1592831,2531747   \n",
       "\n",
       "                                        skin_concern  \\\n",
       "0                                                NaN   \n",
       "1                                                NaN   \n",
       "2          Redness, Acne and Blemishes, and Oiliness   \n",
       "3  Pores, dullness and uneven texture, acne, and ...   \n",
       "4            Pores, Acne and Blemishes, and Oiliness   \n",
       "\n",
       "                            skin_type  \n",
       "0  Normal, Dry, Combination, and Oily  \n",
       "1                                 NaN  \n",
       "2  Normal, Dry, Combination, and Oily  \n",
       "3  Normal, Dry, Combination, and Oily  \n",
       "4  Normal, Dry, Combination, and Oily  "
      ]
     },
     "execution_count": 7,
     "metadata": {},
     "output_type": "execute_result"
    }
   ],
   "source": [
    "raw_skincare_data.head()"
   ]
  },
  {
   "cell_type": "code",
   "execution_count": 34,
   "metadata": {},
   "outputs": [],
   "source": [
    "clean_skincare_data = raw_skincare_data.copy()\n",
    "\n",
    "#change \"Unnamed:0\" col name to item_sku\n",
    "clean_skincare_data = clean_skincare_data.rename(columns={\"Unnamed: 0\": \"item_sku\"})\n",
    "clean_skincare_data['item_sku'] = clean_skincare_data['item_sku'].astype(\"string\")\n",
    "\n",
    "#apply upper case to multiple string columns columns\n",
    "clean_skincare_data['hierarchy'] = clean_skincare_data['hierarchy'].str.upper()\n",
    "clean_skincare_data['brand'] = clean_skincare_data['brand'].str.upper()\n",
    "clean_skincare_data['product'] = clean_skincare_data['product'].str.upper()\n",
    "clean_skincare_data['skin_concern'] = clean_skincare_data['skin_concern'].str.upper()\n",
    "clean_skincare_data['skin_type'] = clean_skincare_data['skin_type'].str.upper()\n",
    "clean_skincare_data['size'] = clean_skincare_data['size'].str.upper()"
   ]
  },
  {
   "cell_type": "code",
   "execution_count": 35,
   "metadata": {},
   "outputs": [],
   "source": [
    "#get the size in oz\n",
    "size_oz = clean_skincare_data['size'].str.extract(r'(\\d+(\\.\\d+)?)\\s*OZ')[0]\n",
    "clean_skincare_data['size_oz'] = size_oz\n",
    "clean_skincare_data['size_oz'] = clean_skincare_data['size_oz'].astype(float)"
   ]
  },
  {
   "cell_type": "code",
   "execution_count": 36,
   "metadata": {},
   "outputs": [],
   "source": [
    "#split the skincare hierachy into 3 levels\n",
    "clean_skincare_data['hierarchy'] = clean_skincare_data['hierarchy'].str.split(',')\n",
    "\n",
    "#create a new df where each level is its own column\n",
    "df_hierarchy = pd.DataFrame([pd.Series(x) for x in clean_skincare_data.hierarchy])\n",
    "df_hierarchy.columns = ['hierarchy_{}'.format(x+1) for x in df_hierarchy.columns]\n",
    "\n",
    "#join the new df with the original df\n",
    "clean_skincare_data = clean_skincare_data.merge(df_hierarchy, left_index=True, right_index=True)\n",
    "\n"
   ]
  },
  {
   "cell_type": "code",
   "execution_count": 37,
   "metadata": {},
   "outputs": [],
   "source": [
    "#keep only products that have hierarchy_1 as SKINCARE\n",
    "clean_skincare_data = clean_skincare_data[clean_skincare_data['hierarchy_1'] == 'SKINCARE']"
   ]
  },
  {
   "cell_type": "code",
   "execution_count": 38,
   "metadata": {},
   "outputs": [],
   "source": [
    "#exclude products that have hierarchy_2 as \"SHOP BY CONCERN\" this is only one product\n",
    "clean_skincare_data = clean_skincare_data[clean_skincare_data['hierarchy_2'] != 'SHOP BY CONCERN']"
   ]
  },
  {
   "cell_type": "code",
   "execution_count": 39,
   "metadata": {},
   "outputs": [
    {
     "data": {
      "text/plain": [
       "hierarchy_1\n",
       "SKINCARE    2135\n",
       "Name: count, dtype: int64"
      ]
     },
     "execution_count": 39,
     "metadata": {},
     "output_type": "execute_result"
    }
   ],
   "source": [
    "clean_skincare_data['hierarchy_1'].value_counts()"
   ]
  },
  {
   "cell_type": "code",
   "execution_count": 40,
   "metadata": {},
   "outputs": [
    {
     "data": {
      "text/plain": [
       "hierarchy_2\n",
       "MOISTURIZERS              509\n",
       "TREATMENTS                411\n",
       "CLEANSERS                 335\n",
       "EYE CARE                  169\n",
       "VALUE & GIFT SETS         168\n",
       "MASKS                     134\n",
       "SUNSCREEN                 101\n",
       "MINI SIZE                  84\n",
       "HIGH TECH TOOLS            66\n",
       "LIP BALMS & TREATMENTS     65\n",
       "WELLNESS                   52\n",
       "SELF TANNERS               41\n",
       "Name: count, dtype: int64"
      ]
     },
     "execution_count": 40,
     "metadata": {},
     "output_type": "execute_result"
    }
   ],
   "source": [
    "clean_skincare_data['hierarchy_2'].value_counts()"
   ]
  },
  {
   "cell_type": "code",
   "execution_count": 41,
   "metadata": {},
   "outputs": [
    {
     "data": {
      "text/plain": [
       "hierarchy_3\n",
       "MOISTURIZERS                 370\n",
       "FACE SERUMS                  336\n",
       "FACE WASH & CLEANSERS        207\n",
       "EYE CREAMS & TREATMENTS      155\n",
       "FACE MASKS                   107\n",
       "FACE SUNSCREEN                88\n",
       "TONERS                        73\n",
       "FACE OILS                     55\n",
       "MISTS & ESSENCES              52\n",
       "FACIAL PEELS                  41\n",
       "ANTI-AGING                    41\n",
       "EXFOLIATORS                   37\n",
       "BLEMISH & ACNE TREATMENTS     32\n",
       "FOR BODY                      27\n",
       "SHEET MASKS                   26\n",
       "BEAUTY SUPPLEMENTS            23\n",
       "NIGHT CREAMS                  20\n",
       "FACIAL ROLLERS                18\n",
       "EYE MASKS                     15\n",
       "FOR FACE                      14\n",
       "HOLISTIC WELLNESS             11\n",
       "BODY SUNSCREEN                10\n",
       "MAKEUP REMOVERS                9\n",
       "FACIAL CLEANSING BRUSHES       8\n",
       "DECOLLETE & NECK CREAMS        7\n",
       "HAIR REMOVAL                   7\n",
       "FACE WIPES                     3\n",
       "BB & CC CREAM                  3\n",
       "TEETH WHITENING                2\n",
       "BLOTTING PAPERS                2\n",
       "Name: count, dtype: int64"
      ]
     },
     "execution_count": 41,
     "metadata": {},
     "output_type": "execute_result"
    }
   ],
   "source": [
    "clean_skincare_data['hierarchy_3'].value_counts()"
   ]
  },
  {
   "cell_type": "code",
   "execution_count": 42,
   "metadata": {},
   "outputs": [],
   "source": [
    "def clean_concerns(s):\n",
    "    split_words = [word.strip().replace('.', '').replace('OF', '') \n",
    "                    for part in re.split(',| AND|/', s) for word in part.strip().split()]\n",
    "    return [word for word in split_words if word]"
   ]
  },
  {
   "cell_type": "code",
   "execution_count": 43,
   "metadata": {},
   "outputs": [],
   "source": [
    "#convert skin_concern into dummy variables\n",
    "clean_skincare_data['skin_concern'] = clean_skincare_data['skin_concern'].fillna('UNKNOWN')\n",
    "\n",
    "skin_concerns = [\n",
    "    'UNKNOWN',\n",
    "    'ACNE',\n",
    "    'BLEMISHES',\n",
    "    'OILINESS',\n",
    "    'PORES',\n",
    "    'FINE LINES',\n",
    "    'WRINKLES',\n",
    "    'DULLNESS',\n",
    "    'FIRMNESS',\n",
    "    'ELASTICITY',\n",
    "    'UNEVEN TEXTURE',\n",
    "    'DRYNESS',\n",
    "    'MASK',\n",
    "    'DARK SPOTS',\n",
    "    'PUFFINESS',\n",
    "    'DARK CIRCLES',\n",
    "    'BUMPS',\n",
    "    'INGROWNS',\n",
    "    'UNEVEN TONE']\n",
    "\n",
    "for concern in skin_concerns:\n",
    "    clean_skincare_data[concern] = clean_skincare_data['skin_concern'].str.contains(concern, regex=True).astype(int)\n"
   ]
  },
  {
   "cell_type": "code",
   "execution_count": 44,
   "metadata": {},
   "outputs": [],
   "source": [
    "#convert skin_type into dummy variables\n",
    "mlb = MultiLabelBinarizer()\n",
    "clean_skincare_data['skin_type'] = clean_skincare_data['skin_type'].fillna('SKIN_TYPE_UNKNOWN')\n",
    "clean_skincare_data['skin_type'] = clean_skincare_data['skin_type'].str.split(r',| AND').apply(lambda x: [word.strip() for word in x if word.strip()])\n",
    "df_type = pd.DataFrame(mlb.fit_transform(clean_skincare_data['skin_type']),columns=mlb.classes_)\n",
    "\n",
    "clean_skincare_data = clean_skincare_data.merge(df_type, left_index=True, right_index=True)"
   ]
  },
  {
   "cell_type": "markdown",
   "metadata": {},
   "source": [
    "##### **2. Network Graph Data Preparation**\n",
    "Create a file to store information about connections between skincare products by extracting pairs of products and their similar counterparts\n"
   ]
  },
  {
   "cell_type": "code",
   "execution_count": 45,
   "metadata": {},
   "outputs": [],
   "source": [
    "#create a new column combining brand and product name\n",
    "clean_skincare_data['brand_product_name'] = clean_skincare_data['brand'] + ' ' + clean_skincare_data['product']\n",
    "brand_product_dict = dict(zip(clean_skincare_data['item_sku'], clean_skincare_data['brand_product_name']))"
   ]
  },
  {
   "cell_type": "code",
   "execution_count": 46,
   "metadata": {},
   "outputs": [],
   "source": [
    "#store the connected nodes/products in a dictionary which will then later be converted to a dataframe and saved as csv\n",
    "network_dict = {'from_sku': [], 'to_sku': [], 'from_name': [], 'to_name': [], 'from_brand': [], 'to_brand': []}\n",
    "\n",
    "\n",
    "\n",
    "for current_sku, similar_sku in zip(clean_skincare_data['item_sku'], clean_skincare_data['similar_products']):\n",
    "    similar_skus = similar_sku.split(\",\")\n",
    "    for sku in similar_skus:\n",
    "        if sku not in brand_product_dict:\n",
    "            continue\n",
    "        network_dict['from_sku'].append(current_sku)\n",
    "        network_dict['from_name'].append(brand_product_dict[current_sku])\n",
    "        network_dict['to_sku'].append(sku)\n",
    "        network_dict['to_name'].append(brand_product_dict[sku])"
   ]
  },
  {
   "cell_type": "code",
   "execution_count": 47,
   "metadata": {},
   "outputs": [
    {
     "name": "stdout",
     "output_type": "stream",
     "text": [
      "Data saved to 'network_data.csv'\n"
     ]
    }
   ],
   "source": [
    "network_df = pd.DataFrame(network_dict)\n",
    "\n",
    "# Save DataFrame to CSV\n",
    "network_df.to_csv('../results/product_network_data.csv', index=False)\n",
    "\n",
    "print(\"Data saved to 'network_data.csv'\")"
   ]
  },
  {
   "cell_type": "markdown",
   "metadata": {},
   "source": [
    "##### **3. Save Cleaned Skincare Product Info**"
   ]
  },
  {
   "cell_type": "code",
   "execution_count": 48,
   "metadata": {},
   "outputs": [
    {
     "name": "stdout",
     "output_type": "stream",
     "text": [
      "Data saved to 'skincare_data_cleaned.csv'\n"
     ]
    }
   ],
   "source": [
    "#count the number of connected products each product has\n",
    "connections = network_df.groupby(['from_sku']).size()\n",
    "connections = connections.to_frame().reset_index() \n",
    "connections.rename(columns={0: 'connections_num'}, inplace=True)\n",
    "\n",
    "\n",
    "final_clean_skincare_data = clean_skincare_data.join(connections.set_index('from_sku'), on='item_sku', how='left')\n",
    "#fill null values in connections with 0\n",
    "final_clean_skincare_data['connections_num'] = final_clean_skincare_data['connections_num'].fillna(0)\n",
    "\n",
    "final_clean_skincare_data.rename(columns={'UNKNOWN': 'SKIN_CONCERN_UNKNOWN'}, inplace=True)\n",
    "\n",
    "#remove columns: hierarchy,size, skin_type,skin_concern\n",
    "final_clean_skincare_data.drop(columns=['hierarchy', 'size', 'skin_type', 'skin_concern'], inplace=True)\n",
    "\n",
    "\n",
    "\n",
    "# Save DataFrame to CSV\n",
    "final_clean_skincare_data.to_csv('../results/skincare_data_cleaned.csv', index=False)\n",
    "\n",
    "print(\"Data saved to 'skincare_data_cleaned.csv'\")\n"
   ]
  }
 ],
 "metadata": {
  "kernelspec": {
   "display_name": "portfolio",
   "language": "python",
   "name": "python3"
  },
  "language_info": {
   "codemirror_mode": {
    "name": "ipython",
    "version": 3
   },
   "file_extension": ".py",
   "mimetype": "text/x-python",
   "name": "python",
   "nbconvert_exporter": "python",
   "pygments_lexer": "ipython3",
   "version": "3.11.7"
  }
 },
 "nbformat": 4,
 "nbformat_minor": 2
}
